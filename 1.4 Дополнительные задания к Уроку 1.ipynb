{
 "cells": [
  {
   "cell_type": "markdown",
   "metadata": {},
   "source": [
    "## Задание 1:\n",
    "\n",
    "### Создайте список a, состоящий из каких-то элементов.\n",
    "### Создайте список b такого же размера, как a, состоящий из каких-то элементов.\n",
    "### Выведите нумерованный список пар из элементов списков a и b."
   ]
  },
  {
   "cell_type": "code",
   "execution_count": null,
   "metadata": {
    "collapsed": true,
    "scrolled": true
   },
   "outputs": [],
   "source": [
    "import random\n",
    "n = 10\n",
    "a = [random.randint(0, 1000) for _ in \" \"*n]\n",
    "b = [random.randint(0, 1000) for _ in \" \"*n]\n",
    "print(*enumerate(zip(a, b)))"
   ]
  },
  {
   "cell_type": "markdown",
   "metadata": {},
   "source": [
    "## Задание 2:\n",
    "\n",
    "### Дан массив строк mas. Одной строкой создайте словарь, в котором по ключу строки будет записана пара (кортеж длины 2) (индекс строки в массиве mas, длина строки)"
   ]
  },
  {
   "cell_type": "code",
   "execution_count": null,
   "metadata": {
    "collapsed": true,
    "scrolled": true
   },
   "outputs": [],
   "source": [
    "mas = \"ksjdhfkjdfs,sfrekjgtktrhr,rtyrlkgnfvqs,droirywer,eretpoioiu\".split(\",\")\n",
    "d = dict(zip(mas, list(enumerate(map(len, mas)))))\n",
    "print(d.items())"
   ]
  },
  {
   "cell_type": "markdown",
   "metadata": {},
   "source": [
    "## Задание 3:\n",
    "\n",
    "### Релизовать функцию, которая возвращает сумму всех позиционных и именованных аргументов."
   ]
  }
 ],
 "metadata": {
  "kernelspec": {
   "display_name": "Python 3",
   "language": "python",
   "name": "python3"
  },
  "language_info": {
   "codemirror_mode": {
    "name": "ipython",
    "version": 3
   },
   "file_extension": ".py",
   "mimetype": "text/x-python",
   "name": "python",
   "nbconvert_exporter": "python",
   "pygments_lexer": "ipython3",
   "version": "3.7.6"
  }
 },
 "nbformat": 4,
 "nbformat_minor": 4
}
