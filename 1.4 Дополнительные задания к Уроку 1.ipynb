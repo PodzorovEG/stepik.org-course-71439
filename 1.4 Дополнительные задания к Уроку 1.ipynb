{
 "cells": [
  {
   "cell_type": "markdown",
   "metadata": {},
   "source": [
    "## Задание 1:\n",
    "\n",
    "### Создайте список a, состоящий из каких-то элементов.\n",
    "### Создайте список b такого же размера, как a, состоящий из каких-то элементов.\n",
    "### Выведите нумерованный список пар из элементов списков a и b."
   ]
  },
  {
   "cell_type": "code",
   "execution_count": null,
   "metadata": {
    "collapsed": true,
    "scrolled": true
   },
   "outputs": [],
   "source": [
    "import random\n",
    "n = 10\n",
    "a = [random.randint(0, 1000) for _ in \" \"*n]\n",
    "b = [random.randint(0, 1000) for _ in \" \"*n]\n",
    "print(*enumerate(zip(a, b)))"
   ]
  },
  {
   "cell_type": "markdown",
   "metadata": {},
   "source": [
    "## Задание 2:\n",
    "\n",
    "### Дан массив строк mas. Одной строкой создайте словарь, в котором по ключу строки будет записана пара (кортеж длины 2) (индекс строки в массиве mas, длина строки)"
   ]
  },
  {
   "cell_type": "code",
   "execution_count": null,
   "metadata": {
    "collapsed": true,
    "scrolled": true
   },
   "outputs": [],
   "source": [
    "mas = \"ksjdhfkjdfs,sfrekjgtktrhr,rtyrlkgnfvqs,droirywer,eretpoioiu\".split(\",\")\n",
    "d = dict(zip(mas, list(enumerate(map(len, mas)))))\n",
    "print(d.items())"
   ]
  },
  {
   "cell_type": "markdown",
   "metadata": {},
   "source": [
    "## Задание 3:\n",
    "\n",
    "### Релизовать функцию, которая возвращает сумму всех позиционных и именованных аргументов."
   ]
  },
  {
   "cell_type": "code",
   "execution_count": 45,
   "metadata": {},
   "outputs": [
    {
     "name": "stdout",
     "output_type": "stream",
     "text": [
      "21\n"
     ]
    }
   ],
   "source": [
    "def sumall(*a, **b):\n",
    "    return sum(a)+sum(b.values())\n",
    "s = sumall(1,2,3,c=4,a=5,b=6)\n",
    "print(s)"
   ]
  },
  {
   "cell_type": "markdown",
   "metadata": {},
   "source": [
    "## Задание 4:\n",
    "\n",
    "### Реализовать функцию, которая сохраняет в 2 глобальные переменные:\n",
    "\n",
    "#### сумму всех позиционных аргументов - релизовать через lambda;\n",
    "#### название всех именованных аргументов в виде списка."
   ]
  },
  {
   "cell_type": "code",
   "execution_count": 75,
   "metadata": {},
   "outputs": [
    {
     "name": "stdout",
     "output_type": "stream",
     "text": [
      "Cумма 6, названия dict_keys(['a', 'b'])\n"
     ]
    }
   ],
   "source": [
    "summ = 0\n",
    "names = []\n",
    "\n",
    "# ваш код тут\n",
    "def another_func(*c, **d):\n",
    "    func = lambda c: sum(c)\n",
    "    global summ, names\n",
    "    summ = func(c)\n",
    "    names = d.keys()\n",
    "\n",
    "another_func(1, 2, 3, a=4, b=5)\n",
    "\n",
    "print(f'Cумма {summ}, названия {names}')"
   ]
  },
  {
   "cell_type": "markdown",
   "metadata": {},
   "source": [
    "## Задание 5:\n",
    "\n",
    "### Реализовать класс с 2 функциями:\n",
    "\n",
    "#### Первая функция копирует функционал задачи №13, но сохраняет переменные в области видимости класса;\n",
    "#### Вторая функция отображает на экран сумму и названия именованных аргументов."
   ]
  },
  {
   "cell_type": "code",
   "execution_count": 79,
   "metadata": {},
   "outputs": [
    {
     "name": "stdout",
     "output_type": "stream",
     "text": [
      "Cумма 6, названия ['a', 'b']\n"
     ]
    }
   ],
   "source": [
    "class Solution():\n",
    "    def __init__(self):\n",
    "        self.summ = 0\n",
    "        self.names = []\n",
    "        \n",
    "    def another_func(self, *c, **d):\n",
    "        func = lambda c: sum(c)\n",
    "        self.summ = func(c)\n",
    "        self.names = list(d.keys())\n",
    "        \n",
    "    def print_args_kwargs(self):\n",
    "        print(f'Cумма {self.summ}, названия {self.names}')\n",
    "        \n",
    "class_obj = Solution()\n",
    "class_obj.another_func(1, 2, 3, a=4, b=5)\n",
    "class_obj.print_args_kwargs()"
   ]
  }
 ],
 "metadata": {
  "kernelspec": {
   "display_name": "Python 3",
   "language": "python",
   "name": "python3"
  },
  "language_info": {
   "codemirror_mode": {
    "name": "ipython",
    "version": 3
   },
   "file_extension": ".py",
   "mimetype": "text/x-python",
   "name": "python",
   "nbconvert_exporter": "python",
   "pygments_lexer": "ipython3",
   "version": "3.7.6"
  }
 },
 "nbformat": 4,
 "nbformat_minor": 4
}
