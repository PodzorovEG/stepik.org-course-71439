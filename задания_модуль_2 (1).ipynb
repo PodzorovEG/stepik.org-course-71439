{
 "cells": [
  {
   "cell_type": "code",
   "execution_count": 24,
   "metadata": {
    "colab": {},
    "colab_type": "code",
    "id": "mO0X92xdt8AI"
   },
   "outputs": [],
   "source": [
    "# загрузим библиотеки\n",
    "import numpy as np\n",
    "import pandas as pd"
   ]
  },
  {
   "cell_type": "markdown",
   "metadata": {
    "colab_type": "text",
    "id": "RvAr660Dtkzm"
   },
   "source": [
    "## Задание 1\n",
    "\n",
    "Создайте массив массив из 100 элементов (от 1 до 100), переформатируйте в формат (10 * 10), сделайте слайсинг с шагом 2 по каждой оси."
   ]
  },
  {
   "cell_type": "code",
   "execution_count": 6,
   "metadata": {
    "colab": {},
    "colab_type": "code",
    "id": "E68PUYqAs747"
   },
   "outputs": [
    {
     "name": "stdout",
     "output_type": "stream",
     "text": [
      "[[ 1  3  5  7  9]\n",
      " [21 23 25 27 29]\n",
      " [41 43 45 47 49]\n",
      " [61 63 65 67 69]\n",
      " [81 83 85 87 89]]\n"
     ]
    }
   ],
   "source": [
    "import numpy as np\n",
    "a = np.array(range(1,101)).reshape(10,10)\n",
    "print(a[::2,::2])"
   ]
  },
  {
   "cell_type": "markdown",
   "metadata": {
    "colab_type": "text",
    "id": "CsoFLFbutmQE"
   },
   "source": [
    "## Задание 2\n",
    "\n",
    "Написать функцию, которая по заданной длине последовательности находит среднее арифметическое ее членов.\n",
    "\n",
    "Реализуйте задачу с и без помощи numpy, сравните время выполнения"
   ]
  },
  {
   "cell_type": "code",
   "execution_count": 2,
   "metadata": {
    "colab": {},
    "colab_type": "code",
    "id": "ykruF0HWtmW3"
   },
   "outputs": [
    {
     "name": "stderr",
     "output_type": "stream",
     "text": [
      "UsageError: Line magic function `%%time` not found.\n"
     ]
    }
   ],
   "source": [
    "import numpy as np\n",
    "# для оценки времени исоплнения блока\n",
    "%%time\n",
    "# зададим длину нашей последовательности\n",
    "dlina_posl = 100_000_000\n",
    "\n",
    "a = np.empty([dlina_posl], dtype = np.int8)\n",
    "print(np.mean(a))"
   ]
  },
  {
   "cell_type": "code",
   "execution_count": 56,
   "metadata": {
    "colab": {},
    "colab_type": "code",
    "id": "LKGnz5iVuA7V"
   },
   "outputs": [
    {
     "name": "stdout",
     "output_type": "stream",
     "text": [
      "0.0\n"
     ]
    }
   ],
   "source": [
    "# решение без использования numpy\n",
    "# для оценки времени исоплнения блока\n",
    "#%%time\n",
    "\n",
    "print(sum(a)/len(a))"
   ]
  },
  {
   "cell_type": "markdown",
   "metadata": {
    "colab_type": "text",
    "id": "yBYPAaYJtmdW"
   },
   "source": [
    "## Задание 3\n",
    "\n",
    "Задан Series объект s, найти индекс первого элемента отсортированного s, где значения больше 5"
   ]
  },
  {
   "cell_type": "code",
   "execution_count": 129,
   "metadata": {
    "colab": {},
    "colab_type": "code",
    "id": "gqiIWcIctmja"
   },
   "outputs": [
    {
     "name": "stdout",
     "output_type": "stream",
     "text": [
      "67\n"
     ]
    }
   ],
   "source": [
    "import numpy as np\n",
    "import pandas as pd\n",
    "\n",
    "r = np.random.RandomState(1)\n",
    "s = pd.Series(r.uniform(0, 10, 100))\n",
    "s = s.sort_values()\n",
    "\n",
    "print(s[s>5].index[0])"
   ]
  },
  {
   "cell_type": "markdown",
   "metadata": {
    "colab_type": "text",
    "id": "ymT-Z-djtmpO"
   },
   "source": [
    "## Задание 4\n",
    "\n",
    "Предположим, что мы наблюдаем за некоторым признаком нашего датасета, но в данных есть пропуски. Ваша задача: реализовать алгоритм заполнения пропущенных значений последним известным с помощью средств python и pandas. (подсказка: вам может помочь функция np.isnan(), которая возвращает True, если число - nan. Для реализации с пандас стоит посмотреть на метод .fillna).\n",
    "\n",
    "Изначальный код с инициализацией такого датасета предоставлен."
   ]
  },
  {
   "cell_type": "code",
   "execution_count": 87,
   "metadata": {
    "colab": {},
    "colab_type": "code",
    "id": "HUR8BE7Etmuj"
   },
   "outputs": [
    {
     "data": {
      "text/plain": [
       "[<matplotlib.lines.Line2D at 0x22dc038b748>]"
      ]
     },
     "execution_count": 87,
     "metadata": {},
     "output_type": "execute_result"
    },
    {
     "data": {
      "image/png": "[encoded data removed]",
      "text/plain": [
       "<Figure size 432x288 with 1 Axes>"
      ]
     },
     "metadata": {
      "needs_background": "light"
     },
     "output_type": "display_data"
    }
   ],
   "source": [
    "# импортируем библиотеку для создания шума\n",
    "import random\n",
    "# библиотека для визуализации\n",
    "import matplotlib.pyplot as plt\n",
    "\n",
    "# создадим наши данные и добавим к каждой точке синусоиды случайный шум\n",
    "a = np.linspace(0, 25, 100)\n",
    "a = np.sin(a) + [random.gauss(0, 0.2) for i in range(len(a))]\n",
    "\n",
    "# создадим 10 случайных пропусков\n",
    "for i in range(10):\n",
    "    a[random.randint(0, len(a) - 1)] = None\n",
    "# создадим датафрейм\n",
    "df = pd.DataFrame({'target':a})\n",
    "\n",
    "# ваш код тут\n",
    "df = df.fillna(df.mean(axis=0))\n",
    "# отобразим\n",
    "plt.plot(df.target.values)"
   ]
  },
  {
   "cell_type": "markdown",
   "metadata": {
    "colab_type": "text",
    "id": "lkk7fksLtm0p"
   },
   "source": [
    "## Задание 5\n",
    "\n",
    "Имеется небольшой игрушечный датафрейм, в котором необходимо провести несколько типов фильтраций (ответы ищите в решениях) и отобразить результат:\n",
    "\n",
    "* всех, кто старше 40\n",
    "* всех, кто имеет доход выше среднего по датасету\n",
    "* всех, кто имеет доход выше среднего по датасету, но надежность ниже среднего по датасету\n",
    "\n",
    "создать новые столбцы:\n",
    "\n",
    "* важность клиента = доход * надежность\n",
    "* возможная долгосрочность клиента = важность клиента * (средний возраст по датасету - возраст клиента)\n",
    "\n",
    "`подсказка: двойные условия записываются так: (условие 1) & (условие 2)`\n",
    "\n",
    "\n",
    "** примечание: столбцы не имеют отношения к реальным формулам или моделям, они необходимы только для наглядности"
   ]
  },
  {
   "cell_type": "code",
   "execution_count": 114,
   "metadata": {
    "colab": {},
    "colab_type": "code",
    "id": "E3PkAP5atm7L"
   },
   "outputs": [
    {
     "name": "stdout",
     "output_type": "stream",
     "text": [
      "    имя  возраст   доход  надежность  пол\n",
      "0  Петя       45  100000        0.65  муж\n",
      "2   Аня       41  150000        0.87  жен\n",
      "    имя  возраст   доход  надежность  пол\n",
      "0  Петя       45  100000        0.65  муж\n",
      "2   Аня       41  150000        0.87  жен\n",
      "    имя  возраст   доход  надежность  пол\n",
      "0  Петя       45  100000        0.65  муж\n",
      "     имя  возраст   доход  надежность  пол  важность  долгосрочность\n",
      "0   Петя       45  100000        0.65  муж   65000.0       -763750.0\n",
      "1   Вася       26   80000        0.74  муж   59200.0        429200.0\n",
      "2    Аня       41  150000        0.87  жен  130500.0      -1011375.0\n",
      "3  Света       21   60000        0.68  жен   40800.0        499800.0\n"
     ]
    }
   ],
   "source": [
    "# создадим тестовый датасет\n",
    "df = pd.DataFrame({\n",
    "    'имя': ['Петя', 'Вася', 'Аня', 'Света'],\n",
    "    'возраст': [45, 26, 41 , 21],\n",
    "    'доход': [100000, 80000, 150000, 60000],\n",
    "    'надежность': [0.65, 0.74, 0.87, 0.68],\n",
    "    'пол': ['муж', 'муж', 'жен', 'жен']},\n",
    "    index=[0, 1, 2, 3])\n",
    "\n",
    "# ваш код тут\n",
    "print(df[df['возраст']>40])\n",
    "\n",
    "print(df[df['доход']>df['доход'].mean()])\n",
    "\n",
    "print(df[(df['доход']>df['доход'].mean()) & (df['надежность']<df['надежность'].mean())])\n",
    "\n",
    "df['важность'] = df['доход'] * df['надежность']\n",
    "\n",
    "df['долгосрочность'] = df['важность'] * (df['возраст'].mean()-df['возраст'])\n",
    "\n",
    "print(df)"
   ]
  },
  {
   "cell_type": "markdown",
   "metadata": {
    "colab_type": "text",
    "id": "SxYDVNpYtnAp"
   },
   "source": [
    "## Задание 6\n",
    "\n",
    "Используя материалы блока Exploratory data analysis материалов 2го модуля вывести имена всех выживших детей и их количество"
   ]
  },
  {
   "cell_type": "code",
   "execution_count": 115,
   "metadata": {
    "colab": {
     "base_uri": "https://localhost:8080/",
     "height": 202
    },
    "colab_type": "code",
    "id": "LAwKsFvYtnFR",
    "outputId": "250563b0-0ea0-43c4-ee19-c7f15c518fb0"
   },
   "outputs": [
    {
     "data": {
      "text/html": [
       "<div>\n",
       "<style scoped>\n",
       "    .dataframe tbody tr th:only-of-type {\n",
       "        vertical-align: middle;\n",
       "    }\n",
       "\n",
       "    .dataframe tbody tr th {\n",
       "        vertical-align: top;\n",
       "    }\n",
       "\n",
       "    .dataframe thead th {\n",
       "        text-align: right;\n",
       "    }\n",
       "</style>\n",
       "<table border=\"1\" class=\"dataframe\">\n",
       "  <thead>\n",
       "    <tr style=\"text-align: right;\">\n",
       "      <th></th>\n",
       "      <th>Survived</th>\n",
       "      <th>Pclass</th>\n",
       "      <th>Name</th>\n",
       "      <th>Sex</th>\n",
       "      <th>Age</th>\n",
       "      <th>Siblings/Spouses Aboard</th>\n",
       "      <th>Parents/Children Aboard</th>\n",
       "      <th>Fare</th>\n",
       "    </tr>\n",
       "  </thead>\n",
       "  <tbody>\n",
       "    <tr>\n",
       "      <th>0</th>\n",
       "      <td>0</td>\n",
       "      <td>3</td>\n",
       "      <td>Mr. Owen Harris Braund</td>\n",
       "      <td>male</td>\n",
       "      <td>22.0</td>\n",
       "      <td>1</td>\n",
       "      <td>0</td>\n",
       "      <td>7.2500</td>\n",
       "    </tr>\n",
       "    <tr>\n",
       "      <th>1</th>\n",
       "      <td>1</td>\n",
       "      <td>1</td>\n",
       "      <td>Mrs. John Bradley (Florence Briggs Thayer) Cum...</td>\n",
       "      <td>female</td>\n",
       "      <td>38.0</td>\n",
       "      <td>1</td>\n",
       "      <td>0</td>\n",
       "      <td>71.2833</td>\n",
       "    </tr>\n",
       "    <tr>\n",
       "      <th>2</th>\n",
       "      <td>1</td>\n",
       "      <td>3</td>\n",
       "      <td>Miss. Laina Heikkinen</td>\n",
       "      <td>female</td>\n",
       "      <td>26.0</td>\n",
       "      <td>0</td>\n",
       "      <td>0</td>\n",
       "      <td>7.9250</td>\n",
       "    </tr>\n",
       "    <tr>\n",
       "      <th>3</th>\n",
       "      <td>1</td>\n",
       "      <td>1</td>\n",
       "      <td>Mrs. Jacques Heath (Lily May Peel) Futrelle</td>\n",
       "      <td>female</td>\n",
       "      <td>35.0</td>\n",
       "      <td>1</td>\n",
       "      <td>0</td>\n",
       "      <td>53.1000</td>\n",
       "    </tr>\n",
       "    <tr>\n",
       "      <th>4</th>\n",
       "      <td>0</td>\n",
       "      <td>3</td>\n",
       "      <td>Mr. William Henry Allen</td>\n",
       "      <td>male</td>\n",
       "      <td>35.0</td>\n",
       "      <td>0</td>\n",
       "      <td>0</td>\n",
       "      <td>8.0500</td>\n",
       "    </tr>\n",
       "  </tbody>\n",
       "</table>\n",
       "</div>"
      ],
      "text/plain": [
       "   Survived  Pclass                                               Name  \\\n",
       "0         0       3                             Mr. Owen Harris Braund   \n",
       "1         1       1  Mrs. John Bradley (Florence Briggs Thayer) Cum...   \n",
       "2         1       3                              Miss. Laina Heikkinen   \n",
       "3         1       1        Mrs. Jacques Heath (Lily May Peel) Futrelle   \n",
       "4         0       3                            Mr. William Henry Allen   \n",
       "\n",
       "      Sex   Age  Siblings/Spouses Aboard  Parents/Children Aboard     Fare  \n",
       "0    male  22.0                        1                        0   7.2500  \n",
       "1  female  38.0                        1                        0  71.2833  \n",
       "2  female  26.0                        0                        0   7.9250  \n",
       "3  female  35.0                        1                        0  53.1000  \n",
       "4    male  35.0                        0                        0   8.0500  "
      ]
     },
     "execution_count": 115,
     "metadata": {},
     "output_type": "execute_result"
    }
   ],
   "source": [
    "data = pd.read_csv('https://web.stanford.edu/class/archive/cs/cs109/cs109.1166/stuff/titanic.csv')\n",
    "\n",
    "data.head()"
   ]
  },
  {
   "cell_type": "code",
   "execution_count": 128,
   "metadata": {
    "colab": {},
    "colab_type": "code",
    "id": "6naKUP91uhqM"
   },
   "outputs": [
    {
     "name": "stdout",
     "output_type": "stream",
     "text": [
      "9           Mrs. Nicholas (Adele Achem) Nasser\n",
      "10              Miss. Marguerite Rut Sandstrom\n",
      "22                          Miss. Anna McGowan\n",
      "39                  Miss. Jamila Nicola-Yarred\n",
      "42     Miss. Simonne Marie Anne Andree Laroche\n",
      "                        ...                   \n",
      "826     Mrs. Antoni (Selini Alexander) Yasbeck\n",
      "827             Master. George Sibley Richards\n",
      "849                   Miss. Mary Conover Lines\n",
      "865             Master. Harold Theodor Johnson\n",
      "871                   Miss. Adele Kiamie Najib\n",
      "Name: Name, Length: 65, dtype: object\n",
      "65\n"
     ]
    }
   ],
   "source": [
    "res = data[(data['Age']<18) & (data['Survived']>0)]['Name']\n",
    "print(res)\n",
    "print(res.count())"
   ]
  }
 ],
 "metadata": {
  "colab": {
   "collapsed_sections": [],
   "name": "задания модуль 2.ipynb",
   "provenance": []
  },
  "kernelspec": {
   "display_name": "Python 3",
   "language": "python",
   "name": "python3"
  },
  "language_info": {
   "codemirror_mode": {
    "name": "ipython",
    "version": 3
   },
   "file_extension": ".py",
   "mimetype": "text/x-python",
   "name": "python",
   "nbconvert_exporter": "python",
   "pygments_lexer": "ipython3",
   "version": "3.7.6"
  }
 },
 "nbformat": 4,
 "nbformat_minor": 1
}
