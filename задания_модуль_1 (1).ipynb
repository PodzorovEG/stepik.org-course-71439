{
  "nbformat": 4,
  "nbformat_minor": 0,
  "metadata": {
    "colab": {
      "name": "задания модуль 1.ipynb",
      "provenance": []
    },
    "kernelspec": {
      "name": "python3",
      "display_name": "Python 3"
    }
  },
  "cells": [
    {
      "cell_type": "markdown",
      "metadata": {
        "id": "AcA1aOz_tMep",
        "colab_type": "text"
      },
      "source": [
        "## Задача 1\n",
        "\n",
        "Создайте переменную a = 10, возвести значение в 3 степень и найти остаток от деления на 3."
      ]
    },
    {
      "cell_type": "code",
      "metadata": {
        "id": "TiGS6kFKtIFQ",
        "colab_type": "code",
        "colab": {}
      },
      "source": [
        "a = 10**3%3"
      ],
      "execution_count": 0,
      "outputs": []
    },
    {
      "cell_type": "markdown",
      "metadata": {
        "id": "PbqrQxjKtNNj",
        "colab_type": "text"
      },
      "source": [
        "## Задача 2\n",
        "\n",
        "Найдите площадь круга с радиусом 1.23456.\n",
        "\n",
        "(Считаем π = 3.14)"
      ]
    },
    {
      "cell_type": "code",
      "metadata": {
        "id": "4PaFmY3FtNVz",
        "colab_type": "code",
        "colab": {}
      },
      "source": [
        "print(3.14*1.23456**2)"
      ],
      "execution_count": 0,
      "outputs": []
    },
    {
      "cell_type": "markdown",
      "metadata": {
        "id": "JpGOohPWtNch",
        "colab_type": "text"
      },
      "source": [
        "## Задача 3\n",
        "\n",
        "Найдите, истинно ли, что 2 в 10 степени больше 1000 при условии, что 4 в 7й степени меньше 8 в 5й.\n",
        "\n"
      ]
    },
    {
      "cell_type": "code",
      "metadata": {
        "id": "tUOVzpHrtNjT",
        "colab_type": "code",
        "colab": {}
      },
      "source": [
        "print((2**10 > 1000)and(4**7 < 8**5))"
      ],
      "execution_count": 0,
      "outputs": []
    },
    {
      "cell_type": "markdown",
      "metadata": {
        "id": "8xTeQJz4tNqM",
        "colab_type": "text"
      },
      "source": [
        "## Задача 4\n",
        "\n",
        "Мы принимаем целое число на ввод с клавиатуры (код предоставлен), вывести \"цена выше рынка\", если число выше 1200, \"цена ниже рыночной\", если число меньше 800 и \"все ок\" в остальных случаях."
      ]
    },
    {
      "cell_type": "code",
      "metadata": {
        "id": "3yLvK2JL-R1g",
        "colab_type": "code",
        "outputId": "1870226c-fce1-421e-d3de-b200cfb745f2",
        "colab": {
          "base_uri": "https://localhost:8080/",
          "height": 51
        }
      },
      "source": [
        "price = int(input('Введите цену товара: '))\n",
        "print([\"все ок\",\"цена выше рынка\"][price>1200])\n"
      ],
      "execution_count": 0,
      "outputs": [
        {
          "output_type": "stream",
          "text": [
            "Введите цену товара: 1300\n",
            "цена выше рынка\n"
          ],
          "name": "stdout"
        }
      ]
    },
    {
      "cell_type": "markdown",
      "metadata": {
        "id": "OoBU8ZITtN2o",
        "colab_type": "text"
      },
      "source": [
        "## Задача 5\n",
        "\n",
        "Распечатайте с 4 по 8 символ фразы \"Привет мир!\" приведенные к верхнему регистру."
      ]
    },
    {
      "cell_type": "code",
      "metadata": {
        "id": "ECKlo9c2-cue",
        "colab_type": "code",
        "colab": {}
      },
      "source": [
        "print(\"Привет мир!\"[4:8].upper())"
      ],
      "execution_count": 0,
      "outputs": []
    },
    {
      "cell_type": "markdown",
      "metadata": {
        "id": "vKmTHQYatOD_",
        "colab_type": "text"
      },
      "source": [
        "## Задача 6\n",
        "\n",
        "Создайте переменную, которая хранит описание этой задачи как строку, разделите слова по пробелам и приведите к нижнему регистру."
      ]
    },
    {
      "cell_type": "code",
      "metadata": {
        "id": "A-Ro4i8u-iHv",
        "colab_type": "code",
        "colab": {}
      },
      "source": [
        "l = \"Создайте переменную, которая хранит описание этой задачи как строку, разделите слова по пробелам и приведите к нижнему регистру.\"\n",
        "l = l.lower().split(\" \")\n",
        "print(l)"
      ],
      "execution_count": 0,
      "outputs": []
    },
    {
      "cell_type": "markdown",
      "metadata": {
        "id": "hd1iSZtNtank",
        "colab_type": "text"
      },
      "source": [
        "## Задание 7\n",
        "\n",
        "Напишите код, который проверяет, является ли переменная x строкой, и если да, то если в строке больше одного слова (слово--последовательность подряд идущих символов без пробелов), то выводит на экран количество слов в этой строке и сами слова в алфавитном порядке."
      ]
    },
    {
      "cell_type": "code",
      "metadata": {
        "id": "INh5TwAM9Xmf",
        "colab_type": "code",
        "colab": {}
      },
      "source": [
        "x = 'z hello world'\n",
        "if type(x) == str:\n",
        "  x = sorted(x.split(\" \"))\n",
        "  l = len(x)\n",
        "  if l > 1:\n",
        "    print(l, *x, sep='\\n')\n",
        "\n"
      ],
      "execution_count": 0,
      "outputs": []
    },
    {
      "cell_type": "markdown",
      "metadata": {
        "id": "PL2Hcn1Hta2F",
        "colab_type": "text"
      },
      "source": [
        "## Задание 8\n",
        "\n",
        "Напишите код, который все элементы массива x с **нечетными** индексами переставит в обратном порядке.\n",
        "\n",
        "Т.е. если x = [0, 1, 2, 3, 4, 5, 6, 7, 8, 9], то код должен получать [0, 9, 2, 7, 4, 5, 6, 3, 8, 1]"
      ]
    },
    {
      "cell_type": "code",
      "metadata": {
        "id": "hh2ackf09QjM",
        "colab_type": "code",
        "outputId": "1ea217f5-8e63-48f8-e902-b602cdcc5b39",
        "colab": {
          "base_uri": "https://localhost:8080/",
          "height": 34
        }
      },
      "source": [
        "x = [0, 1, 2, 3, 4, 5, 6, 7, 8, 9]\n",
        "n = len(x)\n",
        "for i in range(1, n//2, 2):\n",
        "  x [i], x[n-i] = x[n-i], x[i]\n",
        "print(x)"
      ],
      "execution_count": 0,
      "outputs": [
        {
          "output_type": "stream",
          "text": [
            "[0, 9, 2, 7, 4, 5, 6, 3, 8, 1]\n"
          ],
          "name": "stdout"
        }
      ]
    },
    {
      "cell_type": "markdown",
      "metadata": {
        "id": "kd-omME5tbDh",
        "colab_type": "text"
      },
      "source": [
        "## Задание 9\n",
        "\n",
        "Напишите цикл, который выводит все числа от 0 до 500, делящиеся на 7, если в них есть цифра 8.\n",
        "\n",
        "*Подсказка*: переменную типа int можно привести к типу str:\n",
        "```\n",
        "x = 5\n",
        "y = str(x)\n",
        "```"
      ]
    },
    {
      "cell_type": "code",
      "metadata": {
        "id": "XAosJEH7sCmT",
        "colab_type": "code",
        "outputId": "b92fa38c-c895-4e7e-d78a-48de8c1cba35",
        "colab": {
          "base_uri": "https://localhost:8080/",
          "height": 255
        }
      },
      "source": [
        "for i in range(489):\n",
        "  if i%7==0 and '8' in str(i):\n",
        "    print(i)"
      ],
      "execution_count": 2,
      "outputs": [
        {
          "output_type": "stream",
          "text": [
            "28\n",
            "84\n",
            "98\n",
            "168\n",
            "182\n",
            "189\n",
            "238\n",
            "280\n",
            "287\n",
            "308\n",
            "378\n",
            "385\n",
            "448\n",
            "483\n"
          ],
          "name": "stdout"
        }
      ]
    }
  ]
}