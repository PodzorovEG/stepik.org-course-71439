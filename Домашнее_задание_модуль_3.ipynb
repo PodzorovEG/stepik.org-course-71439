{
 "cells": [
  {
   "cell_type": "markdown",
   "metadata": {
    "colab_type": "text",
    "id": "DXet1CQyV4xz"
   },
   "source": [
    "# Информация по библиотеке SKLearn\n",
    "\n",
    "> Indented block\n",
    "\n"
   ]
  },
  {
   "cell_type": "code",
   "execution_count": 4,
   "metadata": {
    "colab": {},
    "colab_type": "code",
    "id": "gYVbzyBvXsFh"
   },
   "outputs": [],
   "source": [
    "import sklearn"
   ]
  },
  {
   "cell_type": "markdown",
   "metadata": {
    "colab_type": "text",
    "id": "caKs-r23WA2M"
   },
   "source": [
    "Изученные нами модули SKLearn:"
   ]
  },
  {
   "cell_type": "markdown",
   "metadata": {
    "colab_type": "text",
    "id": "wQ0QKEMfXxn3"
   },
   "source": [
    "#### 1. sklearn.metrics: "
   ]
  },
  {
   "cell_type": "markdown",
   "metadata": {
    "colab_type": "text",
    "id": "gfM4gS4VcQwu"
   },
   "source": [
    "https://scikit-learn.org/stable/modules/classes.html\n",
    "\n",
    "\n",
    "модуль, где находятся множество метрик, используемых в задачах машинного обучения как для классификации, так и для регрессии:"
   ]
  },
  {
   "cell_type": "code",
   "execution_count": 7,
   "metadata": {
    "colab": {},
    "colab_type": "code",
    "id": "jBCKIN9nXfBt"
   },
   "outputs": [
    {
     "data": {
      "text/plain": [
       "['__name__',\n",
       " '__doc__',\n",
       " '__package__',\n",
       " '__loader__',\n",
       " '__spec__',\n",
       " '__path__',\n",
       " '__file__',\n",
       " '__cached__',\n",
       " '__builtins__',\n",
       " '_base',\n",
       " '_ranking',\n",
       " 'auc',\n",
       " 'average_precision_score',\n",
       " 'coverage_error',\n",
       " 'dcg_score',\n",
       " 'label_ranking_average_precision_score',\n",
       " 'label_ranking_loss',\n",
       " 'ndcg_score',\n",
       " 'precision_recall_curve',\n",
       " 'roc_auc_score',\n",
       " 'roc_curve',\n",
       " '_classification',\n",
       " 'accuracy_score',\n",
       " 'balanced_accuracy_score',\n",
       " 'classification_report',\n",
       " 'cohen_kappa_score',\n",
       " 'confusion_matrix',\n",
       " 'f1_score',\n",
       " 'fbeta_score',\n",
       " 'hamming_loss',\n",
       " 'hinge_loss',\n",
       " 'jaccard_similarity_score',\n",
       " 'jaccard_score',\n",
       " 'log_loss',\n",
       " 'matthews_corrcoef',\n",
       " 'precision_recall_fscore_support',\n",
       " 'precision_score',\n",
       " 'recall_score',\n",
       " 'zero_one_loss',\n",
       " 'brier_score_loss',\n",
       " 'multilabel_confusion_matrix',\n",
       " '_pairwise_fast',\n",
       " 'pairwise',\n",
       " 'cluster',\n",
       " 'adjusted_mutual_info_score',\n",
       " 'adjusted_rand_score',\n",
       " 'completeness_score',\n",
       " 'consensus_score',\n",
       " 'homogeneity_completeness_v_measure',\n",
       " 'homogeneity_score',\n",
       " 'mutual_info_score',\n",
       " 'normalized_mutual_info_score',\n",
       " 'fowlkes_mallows_score',\n",
       " 'silhouette_samples',\n",
       " 'silhouette_score',\n",
       " 'calinski_harabasz_score',\n",
       " 'calinski_harabaz_score',\n",
       " 'v_measure_score',\n",
       " 'davies_bouldin_score',\n",
       " 'euclidean_distances',\n",
       " 'nan_euclidean_distances',\n",
       " 'pairwise_distances',\n",
       " 'pairwise_distances_argmin',\n",
       " 'pairwise_distances_argmin_min',\n",
       " 'pairwise_kernels',\n",
       " 'pairwise_distances_chunked',\n",
       " '_regression',\n",
       " 'explained_variance_score',\n",
       " 'max_error',\n",
       " 'mean_absolute_error',\n",
       " 'mean_squared_error',\n",
       " 'mean_squared_log_error',\n",
       " 'median_absolute_error',\n",
       " 'r2_score',\n",
       " 'mean_tweedie_deviance',\n",
       " 'mean_poisson_deviance',\n",
       " 'mean_gamma_deviance',\n",
       " '_scorer',\n",
       " 'check_scoring',\n",
       " 'make_scorer',\n",
       " 'SCORERS',\n",
       " 'get_scorer',\n",
       " '_plot',\n",
       " 'plot_roc_curve',\n",
       " 'RocCurveDisplay',\n",
       " 'plot_precision_recall_curve',\n",
       " 'PrecisionRecallDisplay',\n",
       " 'plot_confusion_matrix',\n",
       " 'ConfusionMatrixDisplay',\n",
       " '__all__']"
      ]
     },
     "execution_count": 7,
     "metadata": {},
     "output_type": "execute_result"
    }
   ],
   "source": [
    "from sklearn import metrics\n",
    "metrics.__dir__()"
   ]
  },
  {
   "cell_type": "markdown",
   "metadata": {
    "colab_type": "text",
    "id": "medL2R7scs-N"
   },
   "source": [
    "Метрики обычно принимают два параметра -- вектор правильных оветов на данные и вектор предсказаний алгоритма, и выдают число -- значение метрики."
   ]
  },
  {
   "cell_type": "code",
   "execution_count": 8,
   "metadata": {
    "colab": {},
    "colab_type": "code",
    "id": "AXrfYrYKc8NR"
   },
   "outputs": [
    {
     "data": {
      "text/plain": [
       "0.6666666666666666"
      ]
     },
     "execution_count": 8,
     "metadata": {},
     "output_type": "execute_result"
    }
   ],
   "source": [
    "from sklearn.metrics import accuracy_score\n",
    "y_true = [1, 2, 3]\n",
    "y_pred = [1, 2, 5]\n",
    "accuracy_score(y_true, y_pred)"
   ]
  },
  {
   "cell_type": "markdown",
   "metadata": {
    "colab_type": "text",
    "id": "LUrR-1w-Xzby"
   },
   "source": [
    "#### 2. sklearn.neighbors"
   ]
  },
  {
   "cell_type": "markdown",
   "metadata": {
    "colab_type": "text",
    "id": "ZwSP82xacTPt"
   },
   "source": [
    "Модуль, где находятся модели ближайших соседей для задач регрессии, так и для классификации. "
   ]
  },
  {
   "cell_type": "code",
   "execution_count": 10,
   "metadata": {
    "colab": {},
    "colab_type": "code",
    "id": "2ndoGtZRYawj"
   },
   "outputs": [
    {
     "data": {
      "text/plain": [
       "['__name__',\n",
       " '__doc__',\n",
       " '__package__',\n",
       " '__loader__',\n",
       " '__spec__',\n",
       " '__path__',\n",
       " '__file__',\n",
       " '__cached__',\n",
       " '__builtins__',\n",
       " '_typedefs',\n",
       " '_dist_metrics',\n",
       " '_ball_tree',\n",
       " 'BallTree',\n",
       " '_kd_tree',\n",
       " 'KDTree',\n",
       " 'DistanceMetric',\n",
       " '_base',\n",
       " '_unsupervised',\n",
       " '_graph',\n",
       " 'kneighbors_graph',\n",
       " 'radius_neighbors_graph',\n",
       " 'KNeighborsTransformer',\n",
       " 'RadiusNeighborsTransformer',\n",
       " 'NearestNeighbors',\n",
       " '_classification',\n",
       " 'KNeighborsClassifier',\n",
       " 'RadiusNeighborsClassifier',\n",
       " '_regression',\n",
       " 'KNeighborsRegressor',\n",
       " 'RadiusNeighborsRegressor',\n",
       " '_nearest_centroid',\n",
       " 'NearestCentroid',\n",
       " '_kde',\n",
       " 'KernelDensity',\n",
       " '_lof',\n",
       " 'LocalOutlierFactor',\n",
       " '_nca',\n",
       " 'NeighborhoodComponentsAnalysis',\n",
       " 'VALID_METRICS',\n",
       " 'VALID_METRICS_SPARSE',\n",
       " '__all__']"
      ]
     },
     "execution_count": 10,
     "metadata": {},
     "output_type": "execute_result"
    }
   ],
   "source": [
    "# вывод этой ячейки покажет все, что содержит модуль neighbors\n",
    "from sklearn import neighbors\n",
    "sklearn.neighbors.__dir__()"
   ]
  },
  {
   "cell_type": "markdown",
   "metadata": {
    "colab_type": "text",
    "id": "hgqn1ttWYran"
   },
   "source": [
    "Далее на курсе вы изучите еще несколько модулей, в которых будут находиться другие алгоритмы машинного обучения.\n"
   ]
  },
  {
   "cell_type": "markdown",
   "metadata": {
    "colab_type": "text",
    "id": "PppfPSxoZ8V9"
   },
   "source": [
    "#### 3. Структура моделей в SKLearn"
   ]
  },
  {
   "cell_type": "markdown",
   "metadata": {
    "colab_type": "text",
    "id": "7wA4YEQxcWVA"
   },
   "source": [
    "\n",
    "Все модели машинного обучения имеют одинаковую структуру в SKLearn."
   ]
  },
  {
   "cell_type": "code",
   "execution_count": 15,
   "metadata": {
    "colab": {},
    "colab_type": "code",
    "id": "niHWFX67ZIEn"
   },
   "outputs": [
    {
     "name": "stdout",
     "output_type": "stream",
     "text": [
      "KNeighborsClassifier(algorithm='auto', leaf_size=30, metric='minkowski',\n",
      "                     metric_params=None, n_jobs=None, n_neighbors=3, p=2,\n",
      "                     weights='uniform')\n"
     ]
    }
   ],
   "source": [
    "# импорт модели из модуля\n",
    "from sklearn.neighbors import KNeighborsClassifier\n",
    "# инициализация модели и задание гиперпараметров\n",
    "model = KNeighborsClassifier(n_neighbors=3)\n",
    "print(model)"
   ]
  },
  {
   "cell_type": "markdown",
   "metadata": {
    "colab_type": "text",
    "id": "d2Y-J13NZaqZ"
   },
   "source": [
    "Обучение моделей в SKLearn осуществляется с помощью метода .fit(), который принимает ровно два аргумента: тренировочные данные и ответы к ним:"
   ]
  },
  {
   "cell_type": "code",
   "execution_count": 17,
   "metadata": {
    "colab": {},
    "colab_type": "code",
    "id": "1bNk0V6oZkev"
   },
   "outputs": [
    {
     "data": {
      "text/plain": [
       "KNeighborsClassifier(algorithm='auto', leaf_size=30, metric='minkowski',\n",
       "                     metric_params=None, n_jobs=None, n_neighbors=3, p=2,\n",
       "                     weights='uniform')"
      ]
     },
     "execution_count": 17,
     "metadata": {},
     "output_type": "execute_result"
    }
   ],
   "source": [
    "X_train = [\n",
    "           [1, 2, 3],\n",
    "           [4, 5, 3.6],\n",
    "           [0.5, 2, 4]\n",
    "]\n",
    "y_train = [1, 2, 1]\n",
    "model.fit(X_train, y_train)"
   ]
  },
  {
   "cell_type": "markdown",
   "metadata": {
    "colab_type": "text",
    "id": "-5NuOHkEZm8p"
   },
   "source": [
    "Получение предсказаний модели в SKLearn осуществляется с помощью метода .predict():"
   ]
  },
  {
   "cell_type": "code",
   "execution_count": 31,
   "metadata": {
    "colab": {},
    "colab_type": "code",
    "id": "kH1_I5oWZuTc"
   },
   "outputs": [
    {
     "name": "stdout",
     "output_type": "stream",
     "text": [
      "[1]\n"
     ]
    }
   ],
   "source": [
    "X_test = [\n",
    "          [1, 2, 3.5]\n",
    "]\n",
    "predicted = model.predict(X_test)\n",
    "print(predicted)"
   ]
  },
  {
   "cell_type": "markdown",
   "metadata": {
    "colab_type": "text",
    "id": "cejoRHceZwTS"
   },
   "source": [
    "Если выбранная модель решает задачу классификации (как, например, KNeighborsClassifier), то кроме метода .predict() у большинства моделей есть еще метод .predict_proba() для получения ответов не в виде меток классов, а в виде вероятностей принадлежности к классам.\n",
    "\n",
    "Если модель решает задачу классификации на n классов, то вывод model.predict_proba() вернет для каждого объекта n чисел -- вероятностей принадлежности объекта к каждому из n классов."
   ]
  },
  {
   "cell_type": "code",
   "execution_count": 33,
   "metadata": {
    "colab": {},
    "colab_type": "code",
    "id": "RRVd99rWazis"
   },
   "outputs": [
    {
     "data": {
      "text/plain": [
       "array([[0.66666667, 0.33333333]])"
      ]
     },
     "execution_count": 33,
     "metadata": {},
     "output_type": "execute_result"
    }
   ],
   "source": [
    "X_test = [\n",
    "          [1, 2, 3.5]\n",
    "]\n",
    "predicted = model.predict_proba(X_test)\n",
    "predicted"
   ]
  },
  {
   "cell_type": "markdown",
   "metadata": {
    "colab_type": "text",
    "id": "WyuyZCK3a3Zd"
   },
   "source": [
    "Если нужно взять из выданного .predict_proba() массива только вероятности одного класса, нужно просто взять нужный столбец numpy-массива, выданного .predict_proba():"
   ]
  },
  {
   "cell_type": "code",
   "execution_count": 34,
   "metadata": {
    "colab": {},
    "colab_type": "code",
    "id": "yT8BG2rpbDRx"
   },
   "outputs": [
    {
     "data": {
      "text/plain": [
       "array([0.66666667])"
      ]
     },
     "execution_count": 34,
     "metadata": {},
     "output_type": "execute_result"
    }
   ],
   "source": [
    "# вероятность принадлежности классу 0\n",
    "predicted[:, 0]"
   ]
  },
  {
   "cell_type": "code",
   "execution_count": 35,
   "metadata": {
    "colab": {},
    "colab_type": "code",
    "id": "4QSTv8c1bLbv"
   },
   "outputs": [
    {
     "data": {
      "text/plain": [
       "array([0.33333333])"
      ]
     },
     "execution_count": 35,
     "metadata": {},
     "output_type": "execute_result"
    }
   ],
   "source": [
    "# вероятность принадлежности классу 1\n",
    "predicted[:, 1]"
   ]
  },
  {
   "cell_type": "markdown",
   "metadata": {
    "colab_type": "text",
    "id": "cjuuejsSbQv2"
   },
   "source": [
    "У разных моделей SKLearn есть еще много разных методов, их для каждой модели можно посмотреть в документации. Например, документация для sklearn.neighbors.KNeighborsClassifier: <br>\n",
    "https://scikit-learn.org/stable/modules/generated/sklearn.neighbors.KNeighborsClassifier.html"
   ]
  },
  {
   "cell_type": "markdown",
   "metadata": {
    "colab_type": "text",
    "id": "OiUIfyfIblax"
   },
   "source": [
    "#### 4. sklearn.model_selection.train_test_split"
   ]
  },
  {
   "cell_type": "markdown",
   "metadata": {
    "colab_type": "text",
    "id": "m-MtYZd8cZuS"
   },
   "source": [
    "https://scikit-learn.org/stable/modules/generated/sklearn.model_selection.train_test_split.html\n",
    "\n",
    "Функция для деления датасета на две части так, чтобы распределения признаков в обоих частях были одинаковые. Используется для деления датасета на тренировочную и валидационную части."
   ]
  },
  {
   "cell_type": "markdown",
   "metadata": {
    "colab_type": "text",
    "id": "iWV1neBjXtRW"
   },
   "source": [
    "# Задание: Предсказание сердечно-сосудистых заболеваний"
   ]
  },
  {
   "cell_type": "code",
   "execution_count": null,
   "metadata": {
    "colab": {},
    "colab_type": "code",
    "id": "Fm9RMqaCA9wL"
   },
   "outputs": [],
   "source": [
    "import numpy as np\n",
    "import pandas as pd\n",
    "import matplotlib.pyplot as plt\n",
    "% matplotlib inline\n",
    "\n",
    "from sklearn.neighbors import KNeighborsClassifier\n",
    "from sklearn.metrics import log_loss\n",
    "from sklearn.model_selection import train_test_split"
   ]
  },
  {
   "cell_type": "markdown",
   "metadata": {
    "colab_type": "text",
    "id": "iDm0_1UYBbxZ"
   },
   "source": [
    "В этом задании мы будем решать задачу предсказания наличия у человека сердечно-сосудистых заболеваний по некоторым признакам человека. Это датасет с реальными данными людей, он использовался для соревнования по машинному обучению на платформе mlbootcamp: https://mlbootcamp.ru/round/12/sandbox/\n",
    "\n",
    "Давайте посмотрим на датасет:"
   ]
  },
  {
   "cell_type": "code",
   "execution_count": 40,
   "metadata": {
    "colab": {},
    "colab_type": "code",
    "id": "RPB-GdXYBaY5"
   },
   "outputs": [
    {
     "data": {
      "text/html": [
       "<div>\n",
       "<style scoped>\n",
       "    .dataframe tbody tr th:only-of-type {\n",
       "        vertical-align: middle;\n",
       "    }\n",
       "\n",
       "    .dataframe tbody tr th {\n",
       "        vertical-align: top;\n",
       "    }\n",
       "\n",
       "    .dataframe thead th {\n",
       "        text-align: right;\n",
       "    }\n",
       "</style>\n",
       "<table border=\"1\" class=\"dataframe\">\n",
       "  <thead>\n",
       "    <tr style=\"text-align: right;\">\n",
       "      <th></th>\n",
       "      <th>id</th>\n",
       "      <th>age</th>\n",
       "      <th>gender</th>\n",
       "      <th>height</th>\n",
       "      <th>weight</th>\n",
       "      <th>ap_hi</th>\n",
       "      <th>ap_lo</th>\n",
       "      <th>cholesterol</th>\n",
       "      <th>gluc</th>\n",
       "      <th>smoke</th>\n",
       "      <th>alco</th>\n",
       "      <th>active</th>\n",
       "      <th>cardio</th>\n",
       "    </tr>\n",
       "  </thead>\n",
       "  <tbody>\n",
       "    <tr>\n",
       "      <th>0</th>\n",
       "      <td>0</td>\n",
       "      <td>18393</td>\n",
       "      <td>2</td>\n",
       "      <td>168</td>\n",
       "      <td>62.0</td>\n",
       "      <td>110</td>\n",
       "      <td>80</td>\n",
       "      <td>1</td>\n",
       "      <td>1</td>\n",
       "      <td>0</td>\n",
       "      <td>0</td>\n",
       "      <td>1</td>\n",
       "      <td>0</td>\n",
       "    </tr>\n",
       "    <tr>\n",
       "      <th>1</th>\n",
       "      <td>1</td>\n",
       "      <td>20228</td>\n",
       "      <td>1</td>\n",
       "      <td>156</td>\n",
       "      <td>85.0</td>\n",
       "      <td>140</td>\n",
       "      <td>90</td>\n",
       "      <td>3</td>\n",
       "      <td>1</td>\n",
       "      <td>0</td>\n",
       "      <td>0</td>\n",
       "      <td>1</td>\n",
       "      <td>1</td>\n",
       "    </tr>\n",
       "    <tr>\n",
       "      <th>2</th>\n",
       "      <td>2</td>\n",
       "      <td>18857</td>\n",
       "      <td>1</td>\n",
       "      <td>165</td>\n",
       "      <td>64.0</td>\n",
       "      <td>130</td>\n",
       "      <td>70</td>\n",
       "      <td>3</td>\n",
       "      <td>1</td>\n",
       "      <td>0</td>\n",
       "      <td>0</td>\n",
       "      <td>0</td>\n",
       "      <td>1</td>\n",
       "    </tr>\n",
       "    <tr>\n",
       "      <th>3</th>\n",
       "      <td>3</td>\n",
       "      <td>17623</td>\n",
       "      <td>2</td>\n",
       "      <td>169</td>\n",
       "      <td>82.0</td>\n",
       "      <td>150</td>\n",
       "      <td>100</td>\n",
       "      <td>1</td>\n",
       "      <td>1</td>\n",
       "      <td>0</td>\n",
       "      <td>0</td>\n",
       "      <td>1</td>\n",
       "      <td>1</td>\n",
       "    </tr>\n",
       "    <tr>\n",
       "      <th>4</th>\n",
       "      <td>4</td>\n",
       "      <td>17474</td>\n",
       "      <td>1</td>\n",
       "      <td>156</td>\n",
       "      <td>56.0</td>\n",
       "      <td>100</td>\n",
       "      <td>60</td>\n",
       "      <td>1</td>\n",
       "      <td>1</td>\n",
       "      <td>0</td>\n",
       "      <td>0</td>\n",
       "      <td>0</td>\n",
       "      <td>0</td>\n",
       "    </tr>\n",
       "  </tbody>\n",
       "</table>\n",
       "</div>"
      ],
      "text/plain": [
       "   id    age  gender  height  weight  ap_hi  ap_lo  cholesterol  gluc  smoke  \\\n",
       "0   0  18393       2     168    62.0    110     80            1     1      0   \n",
       "1   1  20228       1     156    85.0    140     90            3     1      0   \n",
       "2   2  18857       1     165    64.0    130     70            3     1      0   \n",
       "3   3  17623       2     169    82.0    150    100            1     1      0   \n",
       "4   4  17474       1     156    56.0    100     60            1     1      0   \n",
       "\n",
       "   alco  active  cardio  \n",
       "0     0       1       0  \n",
       "1     0       1       1  \n",
       "2     0       0       1  \n",
       "3     0       1       1  \n",
       "4     0       0       0  "
      ]
     },
     "execution_count": 40,
     "metadata": {},
     "output_type": "execute_result"
    }
   ],
   "source": [
    "# в этом csv файле в качестве разделителей использовалась точка с запятой, \n",
    "# не забудем указать это при вызове функции read_csv\n",
    "\n",
    "#Альтернативно: \n",
    "data = pd.read_csv(\"https://raw.githubusercontent.com/Yorko/mlcourse.ai/master/data/mlbootcamp5_train.csv\", sep=';')\n",
    "#data = pd.read_csv(\"./ml5/train.csv\", sep=';')\n",
    "data.head()"
   ]
  },
  {
   "cell_type": "markdown",
   "metadata": {
    "colab_type": "text",
    "id": "4UxT_KstB_II"
   },
   "source": [
    "В этом датасете данные о 70000 человек, о каждом из которых известно:\n",
    "\n",
    "-- id человека (**id**)\n",
    "-- возраст человека в днях (**age**)\n",
    "-- пол (**gender**)\n",
    "-- рост в сантиметрах (**height**)\n",
    "-- вес в килограммах (**weight**)\n",
    "-- верхнее артериальное давление (**ap_hi**)\n",
    "-- нижнее артериальное давление (**ap_lo**)\n",
    "-- показатель холестерина (**cholesterol**, 1, 2 или 3)\n",
    "-- показатель глюкозы (**gluc**)\n",
    "-- курит ли человек (**smoke**, 0--не курит, 1--курит)\n",
    "-- употребляет ли человек алкоголь (**alco**, 0--нет, 1--да)\n",
    "-- ведет ли активную жизнь (**active**)\n",
    "\n",
    "Целевая переменная: **cardio** -- наличие у человека сердечно-сосудистого заболевания. 1 -- есть, 0 -- нет."
   ]
  },
  {
   "cell_type": "code",
   "execution_count": 41,
   "metadata": {
    "colab": {},
    "colab_type": "code",
    "id": "1W9Pp6b5EUgj"
   },
   "outputs": [
    {
     "data": {
      "text/html": [
       "<div>\n",
       "<style scoped>\n",
       "    .dataframe tbody tr th:only-of-type {\n",
       "        vertical-align: middle;\n",
       "    }\n",
       "\n",
       "    .dataframe tbody tr th {\n",
       "        vertical-align: top;\n",
       "    }\n",
       "\n",
       "    .dataframe thead th {\n",
       "        text-align: right;\n",
       "    }\n",
       "</style>\n",
       "<table border=\"1\" class=\"dataframe\">\n",
       "  <thead>\n",
       "    <tr style=\"text-align: right;\">\n",
       "      <th></th>\n",
       "      <th>id</th>\n",
       "      <th>age</th>\n",
       "      <th>gender</th>\n",
       "      <th>height</th>\n",
       "      <th>weight</th>\n",
       "      <th>ap_hi</th>\n",
       "      <th>ap_lo</th>\n",
       "      <th>cholesterol</th>\n",
       "      <th>gluc</th>\n",
       "      <th>smoke</th>\n",
       "      <th>alco</th>\n",
       "      <th>active</th>\n",
       "      <th>cardio</th>\n",
       "    </tr>\n",
       "  </thead>\n",
       "  <tbody>\n",
       "    <tr>\n",
       "      <th>count</th>\n",
       "      <td>70000.000000</td>\n",
       "      <td>70000.000000</td>\n",
       "      <td>70000.000000</td>\n",
       "      <td>70000.000000</td>\n",
       "      <td>70000.000000</td>\n",
       "      <td>70000.000000</td>\n",
       "      <td>70000.000000</td>\n",
       "      <td>70000.000000</td>\n",
       "      <td>70000.000000</td>\n",
       "      <td>70000.000000</td>\n",
       "      <td>70000.000000</td>\n",
       "      <td>70000.000000</td>\n",
       "      <td>70000.000000</td>\n",
       "    </tr>\n",
       "    <tr>\n",
       "      <th>mean</th>\n",
       "      <td>49972.419900</td>\n",
       "      <td>19468.865814</td>\n",
       "      <td>1.349571</td>\n",
       "      <td>164.359229</td>\n",
       "      <td>74.205690</td>\n",
       "      <td>128.817286</td>\n",
       "      <td>96.630414</td>\n",
       "      <td>1.366871</td>\n",
       "      <td>1.226457</td>\n",
       "      <td>0.088129</td>\n",
       "      <td>0.053771</td>\n",
       "      <td>0.803729</td>\n",
       "      <td>0.499700</td>\n",
       "    </tr>\n",
       "    <tr>\n",
       "      <th>std</th>\n",
       "      <td>28851.302323</td>\n",
       "      <td>2467.251667</td>\n",
       "      <td>0.476838</td>\n",
       "      <td>8.210126</td>\n",
       "      <td>14.395757</td>\n",
       "      <td>154.011419</td>\n",
       "      <td>188.472530</td>\n",
       "      <td>0.680250</td>\n",
       "      <td>0.572270</td>\n",
       "      <td>0.283484</td>\n",
       "      <td>0.225568</td>\n",
       "      <td>0.397179</td>\n",
       "      <td>0.500003</td>\n",
       "    </tr>\n",
       "    <tr>\n",
       "      <th>min</th>\n",
       "      <td>0.000000</td>\n",
       "      <td>10798.000000</td>\n",
       "      <td>1.000000</td>\n",
       "      <td>55.000000</td>\n",
       "      <td>10.000000</td>\n",
       "      <td>-150.000000</td>\n",
       "      <td>-70.000000</td>\n",
       "      <td>1.000000</td>\n",
       "      <td>1.000000</td>\n",
       "      <td>0.000000</td>\n",
       "      <td>0.000000</td>\n",
       "      <td>0.000000</td>\n",
       "      <td>0.000000</td>\n",
       "    </tr>\n",
       "    <tr>\n",
       "      <th>25%</th>\n",
       "      <td>25006.750000</td>\n",
       "      <td>17664.000000</td>\n",
       "      <td>1.000000</td>\n",
       "      <td>159.000000</td>\n",
       "      <td>65.000000</td>\n",
       "      <td>120.000000</td>\n",
       "      <td>80.000000</td>\n",
       "      <td>1.000000</td>\n",
       "      <td>1.000000</td>\n",
       "      <td>0.000000</td>\n",
       "      <td>0.000000</td>\n",
       "      <td>1.000000</td>\n",
       "      <td>0.000000</td>\n",
       "    </tr>\n",
       "    <tr>\n",
       "      <th>50%</th>\n",
       "      <td>50001.500000</td>\n",
       "      <td>19703.000000</td>\n",
       "      <td>1.000000</td>\n",
       "      <td>165.000000</td>\n",
       "      <td>72.000000</td>\n",
       "      <td>120.000000</td>\n",
       "      <td>80.000000</td>\n",
       "      <td>1.000000</td>\n",
       "      <td>1.000000</td>\n",
       "      <td>0.000000</td>\n",
       "      <td>0.000000</td>\n",
       "      <td>1.000000</td>\n",
       "      <td>0.000000</td>\n",
       "    </tr>\n",
       "    <tr>\n",
       "      <th>75%</th>\n",
       "      <td>74889.250000</td>\n",
       "      <td>21327.000000</td>\n",
       "      <td>2.000000</td>\n",
       "      <td>170.000000</td>\n",
       "      <td>82.000000</td>\n",
       "      <td>140.000000</td>\n",
       "      <td>90.000000</td>\n",
       "      <td>2.000000</td>\n",
       "      <td>1.000000</td>\n",
       "      <td>0.000000</td>\n",
       "      <td>0.000000</td>\n",
       "      <td>1.000000</td>\n",
       "      <td>1.000000</td>\n",
       "    </tr>\n",
       "    <tr>\n",
       "      <th>max</th>\n",
       "      <td>99999.000000</td>\n",
       "      <td>23713.000000</td>\n",
       "      <td>2.000000</td>\n",
       "      <td>250.000000</td>\n",
       "      <td>200.000000</td>\n",
       "      <td>16020.000000</td>\n",
       "      <td>11000.000000</td>\n",
       "      <td>3.000000</td>\n",
       "      <td>3.000000</td>\n",
       "      <td>1.000000</td>\n",
       "      <td>1.000000</td>\n",
       "      <td>1.000000</td>\n",
       "      <td>1.000000</td>\n",
       "    </tr>\n",
       "  </tbody>\n",
       "</table>\n",
       "</div>"
      ],
      "text/plain": [
       "                 id           age        gender        height        weight  \\\n",
       "count  70000.000000  70000.000000  70000.000000  70000.000000  70000.000000   \n",
       "mean   49972.419900  19468.865814      1.349571    164.359229     74.205690   \n",
       "std    28851.302323   2467.251667      0.476838      8.210126     14.395757   \n",
       "min        0.000000  10798.000000      1.000000     55.000000     10.000000   \n",
       "25%    25006.750000  17664.000000      1.000000    159.000000     65.000000   \n",
       "50%    50001.500000  19703.000000      1.000000    165.000000     72.000000   \n",
       "75%    74889.250000  21327.000000      2.000000    170.000000     82.000000   \n",
       "max    99999.000000  23713.000000      2.000000    250.000000    200.000000   \n",
       "\n",
       "              ap_hi         ap_lo   cholesterol          gluc         smoke  \\\n",
       "count  70000.000000  70000.000000  70000.000000  70000.000000  70000.000000   \n",
       "mean     128.817286     96.630414      1.366871      1.226457      0.088129   \n",
       "std      154.011419    188.472530      0.680250      0.572270      0.283484   \n",
       "min     -150.000000    -70.000000      1.000000      1.000000      0.000000   \n",
       "25%      120.000000     80.000000      1.000000      1.000000      0.000000   \n",
       "50%      120.000000     80.000000      1.000000      1.000000      0.000000   \n",
       "75%      140.000000     90.000000      2.000000      1.000000      0.000000   \n",
       "max    16020.000000  11000.000000      3.000000      3.000000      1.000000   \n",
       "\n",
       "               alco        active        cardio  \n",
       "count  70000.000000  70000.000000  70000.000000  \n",
       "mean       0.053771      0.803729      0.499700  \n",
       "std        0.225568      0.397179      0.500003  \n",
       "min        0.000000      0.000000      0.000000  \n",
       "25%        0.000000      1.000000      0.000000  \n",
       "50%        0.000000      1.000000      0.000000  \n",
       "75%        0.000000      1.000000      1.000000  \n",
       "max        1.000000      1.000000      1.000000  "
      ]
     },
     "execution_count": 41,
     "metadata": {},
     "output_type": "execute_result"
    }
   ],
   "source": [
    "data.describe()"
   ]
  },
  {
   "cell_type": "markdown",
   "metadata": {
    "colab_type": "text",
    "id": "sTNmPyzFEHte"
   },
   "source": [
    "## Часть 1. Предобработка датасета."
   ]
  },
  {
   "cell_type": "markdown",
   "metadata": {
    "colab_type": "text",
    "id": "mLJV4KkNFOmA"
   },
   "source": [
    "В этом датасете нет пропусков, так что заполнять NaN не требуется."
   ]
  },
  {
   "cell_type": "markdown",
   "metadata": {
    "colab_type": "text",
    "id": "4JK_GLtJNUE7"
   },
   "source": [
    "#### 1. Разделим данные и целевую переменную cardio."
   ]
  },
  {
   "cell_type": "markdown",
   "metadata": {
    "colab_type": "text",
    "id": "QsDSYv46cf0h"
   },
   "source": [
    "**Задание**:\n",
    "\n",
    "Поедлите датасет data на данные (data) и целевую переменную (y):"
   ]
  },
  {
   "cell_type": "code",
   "execution_count": 42,
   "metadata": {
    "colab": {},
    "colab_type": "code",
    "id": "k_z2Np4cNaXS"
   },
   "outputs": [],
   "source": [
    "y = data['cardio']\n",
    "\n",
    "data = data.drop([\"cardio\"], axis=1)"
   ]
  },
  {
   "cell_type": "code",
   "execution_count": 43,
   "metadata": {
    "colab": {},
    "colab_type": "code",
    "id": "U0Y7U1yL56lJ"
   },
   "outputs": [],
   "source": [
    "# не меняйте код в этой ячейке!\n",
    "# эта ячейка проверяет ваш код на правильность\n",
    "# если при запуске ячейка выдает ошибку, то у вас в коде ошибка\n",
    "\n",
    "assert y.shape == (70000,)\n",
    "assert set(data.columns) == set(['id', 'age', 'gender', 'height', 'weight', 'ap_hi', 'ap_lo', \n",
    "       'cholesterol', 'gluc', 'smoke', 'alco', 'active'])"
   ]
  },
  {
   "cell_type": "markdown",
   "metadata": {
    "colab_type": "text",
    "id": "b12iaIhPEb9y"
   },
   "source": [
    "#### 2. Выкинем ненужные столбцы."
   ]
  },
  {
   "cell_type": "markdown",
   "metadata": {
    "colab_type": "text",
    "id": "tEfaFMLVcicM"
   },
   "source": [
    "В этом датасете, кажется, все признаки информативны, кроме одного -- id. Как и в Titanik, здесь id -- это просто последовательные числа, присвоенные людям при составлении датасета. Никакой информации они не несут. Давайте выкинем столбец id:\n",
    "\n",
    "**Задание**:\n",
    "\n",
    "Удалите из data колонку id"
   ]
  },
  {
   "cell_type": "code",
   "execution_count": 44,
   "metadata": {
    "colab": {},
    "colab_type": "code",
    "id": "Ajk3NIAbBt5U"
   },
   "outputs": [],
   "source": [
    "# оставьте в переменной data все столбцы, кроме id\n",
    "data = data.drop([\"id\"], axis=1)"
   ]
  },
  {
   "cell_type": "code",
   "execution_count": 45,
   "metadata": {
    "colab": {},
    "colab_type": "code",
    "id": "IgDM7Ve1AUrk"
   },
   "outputs": [],
   "source": [
    "# не меняйте код в этой ячейке!\n",
    "# эта ячейка проверяет ваш код на правильность\n",
    "# если при запуске ячейка выдает ошибку, то у вас в коде ошибка\n",
    "\n",
    "assert set(data.columns) == set(['age', 'gender', 'height', 'weight', 'ap_hi', 'ap_lo', \n",
    "       'cholesterol', 'gluc', 'smoke', 'alco', 'active'])"
   ]
  },
  {
   "cell_type": "markdown",
   "metadata": {
    "colab_type": "text",
    "id": "6ul4ujNoFMf5"
   },
   "source": [
    "#### 3. Посмотрим на то, какого типа колонки в датасете."
   ]
  },
  {
   "cell_type": "code",
   "execution_count": 46,
   "metadata": {
    "colab": {},
    "colab_type": "code",
    "id": "OjxE7l1pHw6G"
   },
   "outputs": [
    {
     "name": "stdout",
     "output_type": "stream",
     "text": [
      "age              int64\n",
      "gender           int64\n",
      "height           int64\n",
      "weight         float64\n",
      "ap_hi            int64\n",
      "ap_lo            int64\n",
      "cholesterol      int64\n",
      "gluc             int64\n",
      "smoke            int64\n",
      "alco             int64\n",
      "active           int64\n",
      "dtype: object\n"
     ]
    }
   ],
   "source": [
    "print(data.dtypes)"
   ]
  },
  {
   "cell_type": "markdown",
   "metadata": {
    "colab_type": "text",
    "id": "He_DMhFpHyiP"
   },
   "source": [
    "Кажется, что все они числовые и категориальных признаков нет. Но давайте присмотримся: признак cholesterol содержит три вида значения: 1, 2 и 3. Они выражают три уровня холестерина. \n",
    "\n",
    "С одной стороны, между этими тремя уровнями есть связь: 3 > 2 > 1. C другой стороны, этот признак можно интерпретировать как категориальный и поделить его на три столбца.\n",
    "\n",
    "Как будет лучше для решения задачи, мы не знаем. Нужно пробовать разные варианты, чем и занимаются data scientists. Давайте создадим копию наших данных, в которых поделим колонку cholesterol на три колонки:\n",
    "\n",
    "**Задание**: \n",
    "\n",
    "Поделите колонку cholesterol на три колонки с помощью pd.get_dummies() и запишите полученный датасет в новую переменную data_ch:"
   ]
  },
  {
   "cell_type": "code",
   "execution_count": 47,
   "metadata": {
    "colab": {},
    "colab_type": "code",
    "id": "t4BwF4JtHxc0"
   },
   "outputs": [],
   "source": [
    "data_ch = pd.get_dummies(data, columns=[\"cholesterol\"])"
   ]
  },
  {
   "cell_type": "code",
   "execution_count": 50,
   "metadata": {
    "colab": {},
    "colab_type": "code",
    "id": "WXWo9JnAAeRz"
   },
   "outputs": [
    {
     "name": "stdout",
     "output_type": "stream",
     "text": [
      "age                int64\n",
      "gender             int64\n",
      "height             int64\n",
      "weight           float64\n",
      "ap_hi              int64\n",
      "ap_lo              int64\n",
      "gluc               int64\n",
      "smoke              int64\n",
      "alco               int64\n",
      "active             int64\n",
      "cholesterol_1      uint8\n",
      "cholesterol_2      uint8\n",
      "cholesterol_3      uint8\n",
      "dtype: object\n"
     ]
    }
   ],
   "source": [
    "# не меняйте код в этой ячейке!\n",
    "# эта ячейка проверяет ваш код на правильность\n",
    "# если при запуске ячейка выдает ошибку, то у вас в коде ошибка\n",
    "\n",
    "assert set(data_ch.columns) == set(['age', 'gender', 'height', 'weight', 'ap_hi', 'ap_lo', 'gluc', 'smoke',\n",
    "       'alco', 'active', 'cholesterol_1', 'cholesterol_2', 'cholesterol_3'])\n",
    "print(data_ch.dtypes)"
   ]
  },
  {
   "cell_type": "markdown",
   "metadata": {
    "colab_type": "text",
    "id": "7MeYGWCQJ3Mn"
   },
   "source": [
    "#### 4. Колонка Age"
   ]
  },
  {
   "cell_type": "markdown",
   "metadata": {
    "colab_type": "text",
    "id": "QNgbto-0cmaD"
   },
   "source": [
    "На лекции мы говорили о том, что если у разных признаков в датасете разные разбросы значений.  функция расстояния KNN -- евклидова, то один признак будет влиять на расстояние между объектами больше, чем другой. У нас в датасете есть признак Age, который измеряется десятками тысяч, в то время как остальные признаки измеряются в единицах или десятках. Давайте сделаем копии датасетов data и data_cholesterol, в которых переведем возраст людей из дней в годы. Перевод осуществим просто поделив колонку Age на 365.\n",
    "\n",
    "**Задание**:\n",
    "\n",
    "Для копий data_age и data_ch_age датасетов data и data_ch переведите их колонки age из дней в годы, поделив колонки на 365:"
   ]
  },
  {
   "cell_type": "code",
   "execution_count": 51,
   "metadata": {
    "colab": {},
    "colab_type": "code",
    "id": "au57paszJz90"
   },
   "outputs": [],
   "source": [
    "data_age = data.copy()\n",
    "data_ch_age = data_ch.copy()\n",
    "\n",
    "data_age[\"age\"] = data_age[\"age\"] / 365\n",
    "data_ch_age[\"age\"] = data_ch_age[\"age\"] / 365"
   ]
  },
  {
   "cell_type": "code",
   "execution_count": 52,
   "metadata": {
    "colab": {},
    "colab_type": "code",
    "id": "HG4hpy8qA48h"
   },
   "outputs": [],
   "source": [
    "# не меняйте код в этой ячейке!\n",
    "# эта ячейка проверяет ваш код на правильность\n",
    "# если при запуске ячейка выдает ошибку, то у вас в коде ошибка\n",
    "\n",
    "assert 64 < data_age[\"age\"].max() < 65 \n",
    "assert 30 > data_age[\"age\"].min() > 29\n",
    "assert 54 > data_age[\"age\"].mean() > 53"
   ]
  },
  {
   "cell_type": "markdown",
   "metadata": {
    "colab_type": "text",
    "id": "ecgIS4X1MFNT"
   },
   "source": [
    "Отлично, теперь у нас есть четыре датасета:\n",
    "\n",
    "**data** -- изначальный датасет без колонки id <br>\n",
    "**data_ch** -- изначальный датасет без колонки id и обработанным признаком cholesterol <br>\n",
    "**data_age** -- изначальный датасет без колонки id и колонкой age, переведенной из дней в года <br>\n",
    "**data_ch_age** -- изначальный датасет без колонки id и обработанным признаком cholesterol и колонкой age, переведенной из дней в года"
   ]
  },
  {
   "cell_type": "markdown",
   "metadata": {
    "colab_type": "text",
    "id": "AbxklkF5NIQ0"
   },
   "source": [
    "Осталось разбить все данные на train и val. Давайте оставим под val 30% датасета:"
   ]
  },
  {
   "cell_type": "code",
   "execution_count": 74,
   "metadata": {
    "colab": {},
    "colab_type": "code",
    "id": "II1md3W0MAUt"
   },
   "outputs": [],
   "source": [
    "from sklearn.model_selection import train_test_split\n",
    "data_train, data_val, y_train, y_val = train_test_split(data, y, test_size=0.3)\n",
    "data_ch_train, data_ch_val, y_ch_train, y_ch_val = train_test_split(data_ch, y, test_size=0.3)\n",
    "data_age_train, data_age_val, y_age_train, y_age_val = train_test_split(data_age, y, test_size=0.3)\n",
    "data_ch_age_train, data_ch_age_val, y_ch_age_train, y_ch_age_val = train_test_split(data_ch_age, y, test_size=0.3)"
   ]
  },
  {
   "cell_type": "markdown",
   "metadata": {
    "colab_type": "text",
    "id": "ofQwAik1OMol"
   },
   "source": [
    "## Часть 2. Обучение KNN"
   ]
  },
  {
   "cell_type": "markdown",
   "metadata": {
    "colab_type": "text",
    "id": "SmuyyV70SKUb"
   },
   "source": [
    "В качестве метрики качества для нашей задачи мы возьмем не accuracy, а log_loss: http://wiki.fast.ai/index.php/Log_Loss\n",
    "\n",
    "log_loss -- это метрика для бинарной классификации (для многоклассовой ее использовать нельзя). Она принимает на вход реальные метки класса в виде нулей и единиц и вероятности принадлежности элементов первому классу, выданные алгоритмом.\n",
    "\n",
    "В sklearn метрика log_loss определена в sklearn.metrics (как и accuracy и многие другие метрики). Чем log_loss ниже, тем ответы алгоритма \"лучше\" (в отличие от accuracy). "
   ]
  },
  {
   "cell_type": "markdown",
   "metadata": {
    "colab_type": "text",
    "id": "0vLcxNj4Oi7Y"
   },
   "source": [
    "**Задание**:\n",
    "\n",
    "Обучите KNN для k=3 на каждом из четырех полученных датасетов и проверьте каждую обученную модель на тесте для метрики log_loss. На каком датасете KNN с k=3 показал себя лучше всего?\n",
    "\n",
    "Обратите внимание, что для метрики log_loss ответы KNN должны быть в виде вероятностей принадлежности классу 1 (полученными с помощью .predict_proba), а не бинарными!"
   ]
  },
  {
   "cell_type": "code",
   "execution_count": 93,
   "metadata": {
    "colab": {},
    "colab_type": "code",
    "id": "93day0yEOLfi"
   },
   "outputs": [
    {
     "data": {
      "text/plain": [
       "4.054505093940534"
      ]
     },
     "execution_count": 93,
     "metadata": {},
     "output_type": "execute_result"
    }
   ],
   "source": [
    "from sklearn.neighbors import KNeighborsClassifier\n",
    "from sklearn.metrics import log_loss\n",
    "# обучаем КНН на тренировочной части data_train датасета data\n",
    "#knn = <тут ваш код определения knn с _neighbors=3 на data_train>\n",
    "knn = KNeighborsClassifier(n_neighbors=3)\n",
    "#<тут ваш код обучения knn>\n",
    "knn.fit(data_train, y_train)\n",
    "# получаем ответы КНН на валидационной части data_val датасета data\n",
    "\n",
    "# predict_proba выдает массив пар -- для каждого объекта соответствующая пара \n",
    "# это вероятности его принадлежности к классу 0 и классу 1. \n",
    "# Чтобы получить только вероятности принадлежности классу 1, \n",
    "# нужно взять 1 столбец полученного numpy array: array[:, 1]\n",
    "predicted_proba = knn.predict_proba(data_val)[:, 1]\n",
    "log_loss(y_val, predicted_proba)"
   ]
  },
  {
   "cell_type": "code",
   "execution_count": 84,
   "metadata": {
    "colab": {},
    "colab_type": "code",
    "id": "EEVQXJkNPPKq"
   },
   "outputs": [
    {
     "name": "stdout",
     "output_type": "stream",
     "text": [
      "4.259529696792581\n",
      "4.195890747926855\n",
      "4.271849744221328\n"
     ]
    }
   ],
   "source": [
    "#<повторите то же самое для остальных трех датасетов. Не забудтье кроме train_data менять также data_val в валидации.>\n",
    "knn.fit(data_ch_train, y_ch_train)\n",
    "predicted_proba1 = knn.predict_proba(data_ch_val)[:, 1]\n",
    "print(log_loss(y_ch_val, predicted_proba1))\n",
    "\n",
    "knn.fit(data_age_train, y_age_train)\n",
    "predicted_proba2 = knn.predict_proba(data_age_val)[:, 1]\n",
    "print(log_loss(y_age_val, predicted_proba2))\n",
    "\n",
    "knn.fit(data_ch_age_train, y_ch_age_train)\n",
    "predicted_proba3 = knn.predict_proba(data_ch_age_val)[:, 1]\n",
    "print(log_loss(y_ch_age_val, predicted_proba3))"
   ]
  },
  {
   "cell_type": "markdown",
   "metadata": {
    "colab_type": "text",
    "id": "62X9If3EUh8l"
   },
   "source": [
    "Мы видим, что во всех четырех случаях log_loss получился довольно большим. Давайте подберем гиперпараметр k, чтобы алгоритм лучше работал:"
   ]
  },
  {
   "cell_type": "markdown",
   "metadata": {
    "colab_type": "text",
    "id": "8L1_KcLpP_Ju"
   },
   "source": [
    "## Часть 3. Подбор параметра k"
   ]
  },
  {
   "cell_type": "markdown",
   "metadata": {
    "colab_type": "text",
    "id": "KFhiHrgARTnx"
   },
   "source": [
    "**Задание**:\n",
    "\n",
    "Для датасетов data_train и data_ch_age_train обучите KNN на тренировочных выборках и найдите значения log_loss на валидационных выборках для значений k от 1 до 20 и постройте график зависимости log_loss от k (как на практическом занятии). Свои выводы опишите ниже."
   ]
  },
  {
   "cell_type": "code",
   "execution_count": 89,
   "metadata": {
    "colab": {},
    "colab_type": "code",
    "id": "c7v19aThP7l-"
   },
   "outputs": [
    {
     "name": "stdout",
     "output_type": "stream",
     "text": [
      "1 12.769624989858878\n",
      "2 6.647319627604155\n",
      "3 4.054505093940534\n",
      "4 2.868566381278122\n",
      "5 2.167221307144204\n",
      "6 1.7426735319255136\n",
      "7 1.4456972676862685\n",
      "8 1.2114274768125521\n",
      "9 1.0774987252830346\n",
      "10 0.9854120330780123\n",
      "11 0.923556313303055\n",
      "12 0.8583962992324303\n",
      "13 0.8007335654712611\n",
      "14 0.7514834035531606\n",
      "15 0.7183958344080275\n",
      "16 0.6907825821393833\n",
      "17 0.6770013947350627\n",
      "18 0.659679961383789\n",
      "19 0.6470836349417259\n",
      "20 0.6350683543037134\n"
     ]
    },
    {
     "data": {
      "image/png": "[encoded data removed]",
      "text/plain": [
       "<Figure size 432x288 with 1 Axes>"
      ]
     },
     "metadata": {
      "needs_background": "light"
     },
     "output_type": "display_data"
    }
   ],
   "source": [
    "#<тут ваш код для датасета data_train>\n",
    "val_log_loss = []\n",
    "for k in range(1, 21):\n",
    "  knn = KNeighborsClassifier(n_neighbors=k)\n",
    "  knn.fit(data_train, y_train)\n",
    "  predicted_proba = knn.predict_proba(data_val)[:, 1]\n",
    "  acc_log_loss = log_loss(y_val, predicted_proba)\n",
    "  print(k, acc_log_loss)\n",
    "  val_log_loss.append(acc_log_loss)\n",
    "    \n",
    "plt.plot(list(range(1, 21)), val_log_loss)\n",
    "plt.xticks(list(range(1, 21)))\n",
    "plt.xlabel(\"количество соседей\")\n",
    "plt.ylabel(\"Логарифмическая потеря\")\n",
    "plt.show()"
   ]
  },
  {
   "cell_type": "code",
   "execution_count": 94,
   "metadata": {
    "colab": {},
    "colab_type": "code",
    "id": "bKrL3bFIQdNE"
   },
   "outputs": [
    {
     "name": "stdout",
     "output_type": "stream",
     "text": [
      "1 12.708769736824145\n",
      "2 6.63388649654417\n",
      "3 4.271849744221328\n",
      "4 3.097789249193605\n",
      "5 2.420134725707312\n",
      "6 1.9135973071670527\n",
      "7 1.6092464799122241\n",
      "8 1.3524746568620238\n",
      "9 1.2048274493403741\n",
      "10 1.0990489172203153\n",
      "11 1.020450179255364\n",
      "12 0.9478182197614761\n",
      "13 0.8892907863480629\n",
      "14 0.8447251786094355\n",
      "15 0.8005553451050971\n",
      "16 0.7549807477065525\n",
      "17 0.7278130408926045\n",
      "18 0.7039767791819039\n",
      "19 0.690383039689594\n",
      "20 0.6802777983923761\n"
     ]
    },
    {
     "data": {
      "image/png": "[encoded data removed]",
      "text/plain": [
       "<Figure size 432x288 with 1 Axes>"
      ]
     },
     "metadata": {
      "needs_background": "light"
     },
     "output_type": "display_data"
    }
   ],
   "source": [
    "#<тут ваш код для датасета data_ch_age_train>\n",
    "val_log_loss = []\n",
    "for k in range(1, 21):\n",
    "  knn = KNeighborsClassifier(n_neighbors=k)\n",
    "  knn.fit(data_ch_age_train, y_ch_age_train)\n",
    "  predicted_proba = knn.predict_proba(data_ch_age_val)[:, 1]\n",
    "  acc_log_loss = log_loss(y_ch_age_val, predicted_proba)\n",
    "  print(k, acc_log_loss)\n",
    "  val_log_loss.append(acc_log_loss)\n",
    "    \n",
    "plt.plot(list(range(1, 21)), val_log_loss)\n",
    "plt.xticks(list(range(1, 21)))\n",
    "plt.xlabel(\"количество соседей\")\n",
    "plt.ylabel(\"Логарифмическая потеря\")\n",
    "plt.show()"
   ]
  },
  {
   "cell_type": "markdown",
   "metadata": {
    "colab_type": "text",
    "id": "xQ9KAVzIR18R"
   },
   "source": [
    "Сделайте выводы -- как вы думаете, почему зависимость log_loss от k получилась такой?"
   ]
  },
  {
   "cell_type": "markdown",
   "metadata": {
    "colab_type": "text",
    "id": "MujcsxC-SCuX"
   },
   "source": [
    "#<ваши выводы опишите здесь>\n",
    "При увеличении k вероятность не доверия полученных вероятностых прогнозов уменьшается."
   ]
  },
  {
   "cell_type": "markdown",
   "metadata": {
    "colab_type": "text",
    "id": "1G5I7YRQS6L1"
   },
   "source": [
    "P.S. Если вы посмотрите на лидерборд в соревновании к этому датасету, то увидите, что участники достигли значений log_loss гораздо меньших, чем получилось у нас. Но не переживайте -- мы особо не старались предобрабатывать датасет, и модель KNN -- одна из самых слабых в машинном обучении. В следующих модулях вы познакомитесь с более сильными моделями."
   ]
  },
  {
   "cell_type": "code",
   "execution_count": 0,
   "metadata": {
    "colab": {},
    "colab_type": "code",
    "id": "P8o_IV4NTOel"
   },
   "outputs": [],
   "source": []
  }
 ],
 "metadata": {
  "colab": {
   "collapsed_sections": [
    "OiUIfyfIblax"
   ],
   "name": "Домашнее задание, модуль 3.ipynb",
   "provenance": [],
   "toc_visible": true
  },
  "kernelspec": {
   "display_name": "Python 3",
   "language": "python",
   "name": "python3"
  },
  "language_info": {
   "codemirror_mode": {
    "name": "ipython",
    "version": 3
   },
   "file_extension": ".py",
   "mimetype": "text/x-python",
   "name": "python",
   "nbconvert_exporter": "python",
   "pygments_lexer": "ipython3",
   "version": "3.7.6"
  }
 },
 "nbformat": 4,
 "nbformat_minor": 1
}
